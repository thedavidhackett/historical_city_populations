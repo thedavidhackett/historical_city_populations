{
 "cells": [
  {
   "cell_type": "code",
   "execution_count": 1,
   "id": "3a16f88e",
   "metadata": {},
   "outputs": [],
   "source": [
    "import os\n",
    "\n",
    "import cv2\n",
    "import layoutparser as lp\n",
    "import numpy as np\n",
    "import pandas as pd\n",
    "import pytesseract\n",
    "\n",
    "from pdf2image import convert_from_path"
   ]
  },
  {
   "cell_type": "code",
   "execution_count": 2,
   "id": "ee79e6a4",
   "metadata": {},
   "outputs": [],
   "source": [
    "os.mkdir('../data/processed/test')"
   ]
  },
  {
   "cell_type": "code",
   "execution_count": 3,
   "id": "b14a020b",
   "metadata": {},
   "outputs": [],
   "source": [
    "pdf_path = \"../data/raw/test.pdf\"\n",
    "images = convert_from_path(pdf_path, dpi=300)"
   ]
  },
  {
   "cell_type": "code",
   "execution_count": 4,
   "id": "74cc868c",
   "metadata": {},
   "outputs": [],
   "source": [
    "model = lp.models.Detectron2LayoutModel(\n",
    "    \"../models/config.yml\",\n",
    "    \"../models/model_final.pth\",\n",
    "    extra_config=[\"MODEL.ROI_HEADS.SCORE_THRESH_TEST\", 0.8],\n",
    "    label_map={0: \"Text\", 1: \"Title\", 2: \"List\", 3: \"Table\", 4: \"Figure\"},\n",
    ")"
   ]
  },
  {
   "cell_type": "code",
   "execution_count": 5,
   "id": "d57c79f1",
   "metadata": {},
   "outputs": [
    {
     "name": "stderr",
     "output_type": "stream",
     "text": [
      "/Users/davidhackett12/projects/historical_city_populations/venv/lib/python3.12/site-packages/torch/functional.py:554: UserWarning: torch.meshgrid: in an upcoming release, it will be required to pass the indexing argument. (Triggered internally at /Users/runner/work/pytorch/pytorch/pytorch/aten/src/ATen/native/TensorShape.cpp:4316.)\n",
      "  return _VF.meshgrid(tensors, **kwargs)  # type: ignore[attr-defined]\n"
     ]
    }
   ],
   "source": [
    "for i, image in enumerate(images):\n",
    "    image_cv = cv2.cvtColor(np.array(image), cv2.COLOR_RGB2BGR)\n",
    "    layout = model.detect(image_cv)\n",
    "\n",
    "    tables = [b for b in layout if b.type == \"Table\"]\n",
    "\n",
    "    for t_idx, table_block in enumerate(tables):\n",
    "        segment = table_block.crop_image(image_cv)\n",
    "\n",
    "        # --- Step 3: OCR the table image ---\n",
    "        ocr_text = pytesseract.image_to_string(segment, config=\"--psm 6\")\n",
    "\n",
    "        # --- Step 4: Convert OCR to DataFrame ---\n",
    "        lines = [line.split() for line in ocr_text.split(\"\\n\") if line.strip()]\n",
    "        df = pd.DataFrame(lines)\n",
    "\n",
    "        # --- Step 5: Save to Excel ---\n",
    "        excel_path = f\"../data/processed/test/output_page{i+1}_table{t_idx+1}.xlsx\"\n",
    "        df.to_excel(excel_path, index=False, header=False)\n"
   ]
  }
 ],
 "metadata": {
  "kernelspec": {
   "display_name": "venv",
   "language": "python",
   "name": "python3"
  },
  "language_info": {
   "codemirror_mode": {
    "name": "ipython",
    "version": 3
   },
   "file_extension": ".py",
   "mimetype": "text/x-python",
   "name": "python",
   "nbconvert_exporter": "python",
   "pygments_lexer": "ipython3",
   "version": "3.12.9"
  }
 },
 "nbformat": 4,
 "nbformat_minor": 5
}
